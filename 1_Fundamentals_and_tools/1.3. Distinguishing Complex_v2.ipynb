{
 "cells": [
  {
   "cell_type": "markdown",
   "metadata": {},
   "source": [
    "# Exercise 1.3: Distinguishing Complex from Complicated Systems\n",
    "\n",
    "In this notebook, we'll explore the important distinction between complex and complicated systems through practical examples and exercises. Understanding this distinction is foundational to complex systems science."
   ]
  },
  {
   "cell_type": "markdown",
   "metadata": {},
   "source": [
    "## Key Differences: Complex vs. Complicated Systems\n",
    "\n",
    "| Characteristic | Complicated Systems | Complex Systems |\n",
    "|----------------|---------------------|------------------|\n",
    "| Predictability | Generally predictable | Often unpredictable |\n",
    "| Components | Many parts with fixed interactions | Components that adapt and evolve |\n",
    "| Emergence | Properties follow directly from components | Novel emergent properties |\n",
    "| Reducibility | Can be understood by studying individual components | Cannot be reduced to sum of components |\n",
    "| Examples | Mechanical watch, airplane | Ecosystem, economy, immune system |"
   ]
  },
  {
   "cell_type": "code",
   "execution_count": 1,
   "metadata": {},
   "outputs": [],
   "source": [
    "# Import necessary libraries\n",
    "import numpy as np\n",
    "import matplotlib.pyplot as plt\n",
    "import pandas as pd\n",
    "from matplotlib.animation import FuncAnimation\n",
    "from IPython.display import HTML"
   ]
  },
  {
   "cell_type": "markdown",
   "metadata": {},
   "source": [
    "## Example 1: Complicated System - Linear Pendulum\n",
    "\n",
    "Let's start with a complicated but not complex system: a simple pendulum. Its behavior is entirely predictable using Newton's laws."
   ]
  },
  {
   "cell_type": "code",
   "execution_count": 2,
   "metadata": {},
   "outputs": [],
   "source": [
    "def simulate_pendulum(length=1.0, g=9.8, theta0=np.pi/4, omega0=0, time_span=10, dt=0.05):\n",
    "    \"\"\"Simulate a simple pendulum using small-angle approximation.\"\"\"\n",
    "    \n",
    "    # Time points\n",
    "    t = np.arange(0, time_span, dt)\n",
    "    \n",
    "    # Calculate period and angular frequency\n",
    "    T = 2 * np.pi * np.sqrt(length/g)  # Period\n",
    "    omega_n = np.sqrt(g/length)        # Natural frequency\n",
    "    \n",
    "    # Calculate position at each time point\n",
    "    theta = theta0 * np.cos(omega_n * t)\n",
    "    \n",
    "    # Convert to Cartesian coordinates for plotting\n",
    "    x = length * np.sin(theta)\n",
    "    y = -length * np.cos(theta)\n",
    "    \n",
    "    return t, theta, x, y, T"
   ]
  },
  {
   "cell_type": "code",
   "execution_count": null,
   "metadata": {},
   "outputs": [],
   "source": [
    "# Run the simulation\n",
    "t, theta, x, y, period = simulate_pendulum(length=1.0, theta0=np.pi/6)\n",
    "\n",
    "# Create an animation\n",
    "fig, ax = plt.subplots(figsize=(8, 8))\n",
    "ax.set_xlim(-1.5, 1.5)\n",
    "ax.set_ylim(-1.5, 0.5)\n",
    "ax.set_aspect('equal')\n",
    "ax.grid(True)\n",
    "\n",
    "line, = ax.plot([], [], 'o-', lw=2)\n",
    "time_template = 'time = %.1fs'\n",
    "time_text = ax.text(0.05, 0.9, '', transform=ax.transAxes)\n",
    "\n",
    "def init():\n",
    "    line.set_data([], [])\n",
    "    time_text.set_text('')\n",
    "    return line, time_text\n",
    "\n",
    "def animate(i):\n",
    "    line.set_data([0, x[i]], [0, y[i]])\n",
    "    time_text.set_text(time_template % t[i])\n",
    "    return line, time_text\n",
    "\n",
    "ani = FuncAnimation(fig, animate, frames=range(0, len(t), 2),\n",
    "                    interval=50, blit=True, init_func=init)\n",
    "\n",
    "plt.title(f'Simple Pendulum (Period: {period:.2f}s)')\n",
    "plt.close()  # This prevents the static image from displaying twice\n",
    "HTML(ani.to_jshtml())"
   ]
  },
  {
   "cell_type": "markdown",
   "metadata": {},
   "source": [
    "The pendulum is a complicated system that follows deterministic, predictable rules. We can accurately model its behavior using differential equations, and its future states are completely determined by initial conditions."
   ]
  },
  {
   "cell_type": "markdown",
   "metadata": {},
   "source": [
    "## Example 2: Complex System - Cellular Automaton\n",
    "\n",
    "Now let's look at a complex system: a 1D cellular automaton (specifically, Rule 30). Despite having extremely simple rules, it produces patterns that cannot be easily predicted without actually running the simulation."
   ]
  },
  {
   "cell_type": "code",
   "execution_count": null,
   "metadata": {},
   "outputs": [],
   "source": [
    "def cellular_automaton(rule_number, size=100, steps=100, initial=None):\n",
    "    \"\"\"Run a 1D cellular automaton.\"\"\"\n",
    "    \n",
    "    # Convert rule number to binary and create rule dictionary\n",
    "    rule_binary = format(rule_number, '08b')\n",
    "    rule = {}\n",
    "    patterns = ['111', '110', '101', '100', '011', '010', '001', '000']\n",
    "    for i, pattern in enumerate(patterns):\n",
    "        rule[pattern] = int(rule_binary[i])\n",
    "    \n",
    "    # Initialize grid\n",
    "    if initial is None:\n",
    "        # Start with a single cell in the middle\n",
    "        grid = np.zeros((steps, size), dtype=int)\n",
    "        grid[0, size//2] = 1\n",
    "    else:\n",
    "        grid = np.zeros((steps, size), dtype=int)\n",
    "        grid[0, :] = initial\n",
    "    \n",
    "    # Run simulation\n",
    "    for i in range(1, steps):\n",
    "        for j in range(size):\n",
    "            # Get neighborhood (with periodic boundary conditions)\n",
    "            left = grid[i-1, (j-1) % size]\n",
    "            center = grid[i-1, j]\n",
    "            right = grid[i-1, (j+1) % size]\n",
    "            neighborhood = str(left) + str(center) + str(right)\n",
    "            \n",
    "            # Apply rule\n",
    "            grid[i, j] = rule[neighborhood]\n",
    "    \n",
    "    return grid"
   ]
  },
  {
   "cell_type": "code",
   "execution_count": null,
   "metadata": {},
   "outputs": [],
   "source": [
    "# Run Rule 30 cellular automaton\n",
    "rule_number = 30\n",
    "ca_grid = cellular_automaton(rule_number, size=101, steps=75)\n",
    "\n",
    "# Plot the result\n",
    "plt.figure(figsize=(10, 10))\n",
    "plt.imshow(ca_grid, cmap='binary', interpolation='none')\n",
    "plt.title(f'Rule {rule_number} Cellular Automaton')\n",
    "plt.tight_layout()\n",
    "plt.show()"
   ]
  },
  {
   "cell_type": "markdown",
   "metadata": {},
   "source": [
    "Rule 30 is a perfect example of a complex system. Despite having extremely simple rules, it generates patterns that appear random and cannot be predicted without running the full simulation. This demonstrates emergence - complex, unpredictable behavior arising from simple rules."
   ]
  },
  {
   "cell_type": "markdown",
   "metadata": {},
   "source": [
    "## Quantifying Complexity vs. Complicatedness\n",
    "\n",
    "One way to distinguish complex from complicated systems is through information theory metrics:"
   ]
  },
  {
   "cell_type": "code",
   "execution_count": null,
   "metadata": {},
   "outputs": [],
   "source": [
    "def entropy(signal):\n",
    "    \"\"\"Calculate Shannon entropy of a signal.\"\"\"\n",
    "    values, counts = np.unique(signal, return_counts=True)\n",
    "    probabilities = counts / len(signal)\n",
    "    return -np.sum(probabilities * np.log2(probabilities))\n",
    "\n",
    "# Sample entropy for pendulum (predictable, complicated)\n",
    "# Convert continuous values to discrete bins\n",
    "pendulum_bins = np.digitize(theta, bins=np.linspace(-np.pi/4, np.pi/4, 20))\n",
    "pendulum_entropy = entropy(pendulum_bins)\n",
    "\n",
    "# Sample entropy for cellular automaton (complex)\n",
    "ca_entropy = entropy(ca_grid[-1, :])\n",
    "\n",
    "print(f\"Pendulum entropy: {pendulum_entropy:.4f} bits\")\n",
    "print(f\"Cellular automaton entropy: {ca_entropy:.4f} bits\")"
   ]
  },
  {
   "cell_type": "markdown",
   "metadata": {},
   "source": [
    "The higher entropy in the cellular automaton reflects its more complex, less predictable behavior compared to the pendulum."
   ]
  },
  {
   "cell_type": "markdown",
   "metadata": {},
   "source": [
    "## Exercise: Analyzing a Simple Traffic Model\n",
    "\n",
    "### Solved Example: Nagel-Schreckenberg Traffic Model\n",
    "\n",
    "Let's implement a simplified traffic model to explore whether traffic flows exhibit complex or merely complicated behavior."
   ]
  },
  {
   "cell_type": "code",
   "execution_count": null,
   "metadata": {},
   "outputs": [],
   "source": [
    "def nagel_schreckenberg(length=100, steps=100, density=0.3, max_speed=5, p_slow=0.3):\n",
    "    \"\"\"Implement the Nagel-Schreckenberg traffic model.\n",
    "    \n",
    "    Parameters:\n",
    "    - length: Length of the road\n",
    "    - steps: Number of simulation steps\n",
    "    - density: Car density (0-1)\n",
    "    - max_speed: Maximum car speed\n",
    "    - p_slow: Probability of random slowing\n",
    "    \n",
    "    Returns:\n",
    "    - road_history: History of road states\n",
    "    - speeds: Average speeds at each time step\n",
    "    - flow: Traffic flow at each time step\n",
    "    \"\"\"\n",
    "    \n",
    "    # Initialize road\n",
    "    n_cars = int(length * density)\n",
    "    road = np.zeros(length, dtype=int)  # -1 means empty, otherwise it's car speed\n",
    "    \n",
    "    # Randomly place cars\n",
    "    car_positions = np.random.choice(length, n_cars, replace=False)\n",
    "    for pos in car_positions:\n",
    "        road[pos] = np.random.randint(0, max_speed + 1)  # Random initial speed\n",
    "    \n",
    "    # History arrays\n",
    "    road_history = np.zeros((steps, length), dtype=int)\n",
    "    speeds = np.zeros(steps)\n",
    "    flow = np.zeros(steps)\n",
    "    \n",
    "    for t in range(steps):\n",
    "        # Record current state\n",
    "        road_history[t] = (road > 0).astype(int)  # Just record presence of cars\n",
    "        \n",
    "        # Calculate average speed and flow\n",
    "        car_speeds = road[road > 0]\n",
    "        if len(car_speeds) > 0:\n",
    "            speeds[t] = np.mean(car_speeds)\n",
    "            flow[t] = density * speeds[t]\n",
    "        \n",
    "        # Create new road for next step\n",
    "        new_road = np.zeros(length, dtype=int)\n",
    "        \n",
    "        for i in range(length):\n",
    "            if road[i] > 0:  # If there's a car\n",
    "                speed = road[i]\n",
    "                \n",
    "                # Step 1: Acceleration\n",
    "                if speed < max_speed:\n",
    "                    speed += 1\n",
    "                \n",
    "                # Step 2: Slowing due to cars ahead\n",
    "                distance = 1\n",
    "                while True:\n",
    "                    next_pos = (i + distance) % length\n",
    "                    if road[next_pos] > 0:  # Car found ahead\n",
    "                        break\n",
    "                    distance += 1\n",
    "                    if distance > speed:\n",
    "                        break\n",
    "                \n",
    "                speed = min(speed, distance - 1)\n",
    "                \n",
    "                # Step 3: Randomization\n",
    "                if speed > 0 and np.random.random() < p_slow:\n",
    "                    speed -= 1\n",
    "                \n",
    "                # Step 4: Car movement\n",
    "                new_pos = (i + speed) % length\n",
    "                new_road[new_pos] = speed\n",
    "        \n",
    "        road = new_road\n",
    "        \n",
    "    return road_history, speeds, flow"
   ]
  },
  {
   "cell_type": "code",
   "execution_count": null,
   "metadata": {},
   "outputs": [],
   "source": [
    "# Run simulation with different densities\n",
    "densities = np.linspace(0.05, 0.95, 19)  # Density values from 5% to 95%\n",
    "avg_speeds = []\n",
    "avg_flows = []\n",
    "\n",
    "for density in densities:\n",
    "    history, speeds, flow = nagel_schreckenberg(density=density, steps=100)\n",
    "    # Use the last 50 steps to calculate averages (after transient)\n",
    "    avg_speeds.append(np.mean(speeds[50:]))\n",
    "    avg_flows.append(np.mean(flow[50:]))\n",
    "\n",
    "# Plot the results\n",
    "fig, (ax1, ax2) = plt.subplots(1, 2, figsize=(15, 6))\n",
    "\n",
    "ax1.plot(densities, avg_speeds, 'o-')\n",
    "ax1.set_xlabel('Density')\n",
    "ax1.set_ylabel('Average Speed')\n",
    "ax1.set_title('Traffic Speed vs. Density')\n",
    "ax1.grid(True)\n",
    "\n",
    "ax2.plot(densities, avg_flows, 'o-')\n",
    "ax2.set_xlabel('Density')\n",
    "ax2.set_ylabel('Flow Rate')\n",
    "ax2.set_title('Traffic Flow vs. Density')\n",
    "ax2.grid(True)\n",
    "\n",
    "plt.tight_layout()\n",
    "plt.show()"
   ]
  },
  {
   "cell_type": "markdown",
   "metadata": {},
   "source": [
    "#### Analysis of the Traffic Model\n",
    "\n",
    "The traffic model demonstrates characteristics of a complex (not just complicated) system:\n",
    "\n",
    "1. **Emergent behavior**: Traffic jams form spontaneously even without accidents\n",
    "2. **Phase transitions**: Notice how flow peaks at medium density, then collapses - this is similar to a phase transition\n",
    "3. **Nonlinearity**: The relationship between density and flow is not linear\n",
    "4. **Sensitivity to initial conditions**: Small variations in initial car placements can lead to very different traffic patterns\n",
    "\n",
    "This is why traffic is considered a complex system - despite having relatively simple rules for individual cars, the collective behavior shows emergent properties that can't be easily predicted from those rules."
   ]
  },
  {
   "cell_type": "markdown",
   "metadata": {},
   "source": [
    "## Your Turn: Economic Market Model\n",
    "\n",
    "Implement a simple economic market model and analyze whether it exhibits complex or merely complicated behavior. Here's a starting point for a supply and demand model - complete it and analyze the results."
   ]
  },
  {
   "cell_type": "code",
   "execution_count": null,
   "metadata": {},
   "outputs": [],
   "source": [
    "def market_model(n_agents=100, n_steps=100, initial_price=50, learning_rate=0.1):\n",
    "    \"\"\"Implement a simple market model with adaptive agents.\n",
    "    \n",
    "    Parameters:\n",
    "    - n_agents: Number of market participants\n",
    "    - n_steps: Number of simulation steps\n",
    "    - initial_price: Starting price\n",
    "    - learning_rate: How quickly agents adapt their expectations\n",
    "    \n",
    "    Returns:\n",
    "    - prices: History of market prices\n",
    "    - supply: Supply at each step\n",
    "    - demand: Demand at each step\n",
    "    \"\"\"\n",
    "    \n",
    "    # TODO: Implement the market model\n",
    "    # 1. Initialize agents with random supply/demand functions\n",
    "    # 2. For each step:\n",
    "    #    a. Determine supply and demand given current price\n",
    "    #    b. Adjust price based on supply/demand imbalance\n",
    "    #    c. Allow agents to adapt their strategies based on past success\n",
    "    # 3. Record prices, supply, and demand history\n",
    "    \n",
    "    # Example implementation of supply and demand functions:\n",
    "    # - For each agent i: supply_i(p) = a_i * p + b_i\n",
    "    # - For each agent i: demand_i(p) = c_i / p + d_i\n",
    "    # where a_i, b_i, c_i, d_i are agent-specific parameters\n",
    "    \n",
    "    # Initialize placeholder arrays\n",
    "    prices = np.zeros(n_steps)\n",
    "    supply = np.zeros(n_steps)\n",
    "    demand = np.zeros(n_steps)\n",
    "    \n",
    "    return prices, supply, demand"
   ]
  },
  {
   "cell_type": "markdown",
   "metadata": {},
   "source": [
    "### Questions to Consider\n",
    "\n",
    "1. Does your market model display emergent behavior that would classify it as complex rather than merely complicated?\n",
    "2. What properties of complex systems does your model exhibit (if any)?\n",
    "3. How would you quantify the complexity of your market model compared to, for example, the pendulum model?\n",
    "4. How do changes in agent behavior parameters affect the overall system?\n",
    "5. Does the market reach equilibrium? If so, under what conditions? If not, why not?"
   ]
  },
  {
   "cell_type": "markdown",
   "metadata": {},
   "source": [
    "## Key Takeaways\n",
    "\n",
    "- **Complicated Systems**: Have many components with fixed interactions; behavior is predictable though potentially intricate (e.g., a mechanical watch)\n",
    "- **Complex Systems**: Have components that adapt and interact, leading to emergent behavior that cannot be predicted from components alone (e.g., economies, ecosystems)\n",
    "- **Analysis Approaches**: Different types of systems require different analytical approaches - reductionist for complicated systems, holistic for complex systems\n",
    "- **Computational Models**: Computer simulations are essential tools for studying complex systems where mathematical tractability is limited"
   ]
  }
 ],
 "metadata": {
  "kernelspec": {
   "display_name": "Python 3",
   "language": "python",
   "name": "python3"
  },
  "language_info": {
   "codemirror_mode": {
    "name": "ipython",
    "version": 3
   },
   "file_extension": ".py",
   "mimetype": "text/x-python",
   "name": "python",
   "nbconvert_exporter": "python",
   "pygments_lexer": "ipython3",
   "version": "3.10.11"
  }
 },
 "nbformat": 4,
 "nbformat_minor": 4
}
