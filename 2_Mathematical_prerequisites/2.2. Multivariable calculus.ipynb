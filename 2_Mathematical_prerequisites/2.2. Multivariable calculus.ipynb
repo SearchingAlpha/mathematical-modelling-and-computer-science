{
 "cells": [
  {
   "cell_type": "markdown",
   "metadata": {},
   "source": [
    "# Section 2.2: Multivariable Calculus for Dynamic Systems - Exercises\n",
    "\n",
    "This notebook contains practical exercises for applying multivariable calculus concepts to dynamic systems modeling. We'll explore gradient fields, vector fields, phase portraits, and other essential tools for understanding complex system behavior.\n",
    "\n",
    "## Learning Objectives\n",
    "- Apply partial derivatives to analyze system behavior\n",
    "- Visualize gradient fields and understand their significance\n",
    "- Analyze vector fields and their relationship to dynamic systems\n",
    "- Calculate divergence and curl to characterize field properties\n",
    "- Implement numerical methods for multivariable systems"
   ]
  },
  {
   "cell_type": "markdown",
   "metadata": {},
   "source": [
    "## Setup\n",
    "\n",
    "Let's first import the necessary libraries for our exercises."
   ]
  },
  {
   "cell_type": "code",
   "execution_count": null,
   "metadata": {},
   "outputs": [],
   "source": [
    "import numpy as np\n",
    "import matplotlib.pyplot as plt\n",
    "from matplotlib import cm\n",
    "from mpl_toolkits.mplot3d import Axes3D\n",
    "import sympy as sp\n",
    "from sympy.utilities.lambdify import lambdify\n",
    "\n",
    "# Set plotting parameters for better visualization\n",
    "plt.rcParams['figure.figsize'] = [10, 8]\n",
    "plt.rcParams['font.size'] = 12\n",
    "plt.style.use('ggplot')"
   ]
  },
  {
   "cell_type": "markdown",
   "metadata": {},
   "source": [
    "# Exercise 1: Vector Fields and Gradient Analysis (Solved)\n",
    "\n",
    "In this exercise, we'll analyze a potential function and its gradient field, which is fundamental to understanding many dynamic systems including physical, ecological, and economic models.\n",
    "\n",
    "## Problem Statement\n",
    "\n",
    "Consider the potential function:\n",
    "\n",
    "$$f(x, y) = x^2 + y^2 - 2xy$$\n",
    "\n",
    "This function could represent an energy landscape in a physical system, a fitness landscape in evolutionary biology, or a utility function in economics.\n",
    "\n",
    "We'll:\n",
    "1. Compute the gradient field of this function\n",
    "2. Visualize both the function and its gradient field\n",
    "3. Find and classify critical points\n",
    "4. Interpret the dynamic implications"
   ]
  },
  {
   "cell_type": "markdown",
   "metadata": {},
   "source": [
    "### Step 1: Define the function and compute its gradient symbolically"
   ]
  },
  {
   "cell_type": "code",
   "execution_count": null,
   "metadata": {},
   "outputs": [],
   "source": [
    "# Define symbolic variables\n",
    "x, y = sp.symbols('x y')\n",
    "\n",
    "# Define the function\n",
    "f = x**2 + y**2 - 2*x*y\n",
    "print(f\"Function f(x,y) = {f}\")\n",
    "\n",
    "# Compute the gradient\n",
    "grad_f_x = sp.diff(f, x)\n",
    "grad_f_y = sp.diff(f, y)\n",
    "grad_f = (grad_f_x, grad_f_y)\n",
    "\n",
    "print(f\"Gradient of f: (∂f/∂x, ∂f/∂y) = ({grad_f_x}, {grad_f_y})\")"
   ]
  },
  {
   "cell_type": "markdown",
   "metadata": {},
   "source": [
    "### Step 2: Visualize the potential function as a 3D surface"
   ]
  },
  {
   "cell_type": "code",
   "execution_count": null,
   "metadata": {},
   "outputs": [],
   "source": [
    "# Convert symbolic function to numerical function\n",
    "f_numeric = lambdify((x, y), f, 'numpy')\n",
    "\n",
    "# Create a grid of points\n",
    "x_vals = np.linspace(-3, 3, 100)\n",
    "y_vals = np.linspace(-3, 3, 100)\n",
    "X, Y = np.meshgrid(x_vals, y_vals)\n",
    "Z = f_numeric(X, Y)\n",
    "\n",
    "# Create 3D plot\n",
    "fig = plt.figure(figsize=(12, 10))\n",
    "ax = fig.add_subplot(111, projection='3d')\n",
    "surf = ax.plot_surface(X, Y, Z, cmap=cm.viridis, alpha=0.8)\n",
    "\n",
    "# Add contour plot at the bottom\n",
    "ax.contour(X, Y, Z, zdir='z', offset=np.min(Z), cmap=cm.viridis, alpha=0.5)\n",
    "\n",
    "ax.set_xlabel('x')\n",
    "ax.set_ylabel('y')\n",
    "ax.set_zlabel('f(x,y)')\n",
    "ax.set_title('Potential Function f(x,y) = x² + y² - 2xy')\n",
    "fig.colorbar(surf, ax=ax, shrink=0.5, aspect=5)\n",
    "\n",
    "plt.show()"
   ]
  },
  {
   "cell_type": "markdown",
   "metadata": {},
   "source": [
    "### Step 3: Visualize the gradient field\n",
    "\n",
    "The gradient field shows the direction of steepest ascent at each point. If we think of a particle moving on this landscape, it would tend to move in the opposite direction of the gradient (downhill) if seeking to minimize energy."
   ]
  },
  {
   "cell_type": "code",
   "execution_count": null,
   "metadata": {},
   "outputs": [],
   "source": [
    "# Convert gradient to numerical functions\n",
    "grad_f_x_numeric = lambdify((x, y), grad_f_x, 'numpy')\n",
    "grad_f_y_numeric = lambdify((x, y), grad_f_y, 'numpy')\n",
    "\n",
    "# Create a coarser grid for the vector field\n",
    "x_grid = np.linspace(-3, 3, 20)\n",
    "y_grid = np.linspace(-3, 3, 20)\n",
    "X_grid, Y_grid = np.meshgrid(x_grid, y_grid)\n",
    "U = grad_f_x_numeric(X_grid, Y_grid)\n",
    "V = grad_f_y_numeric(X_grid, Y_grid)\n",
    "\n",
    "# Calculate the magnitude of the gradient for color mapping\n",
    "gradient_magnitude = np.sqrt(U**2 + V**2)\n",
    "\n",
    "# Normalize the vectors for better visualization\n",
    "U_norm = U / (gradient_magnitude + 1e-10)  # Add small value to avoid division by zero\n",
    "V_norm = V / (gradient_magnitude + 1e-10)\n",
    "\n",
    "# Create the plot\n",
    "fig, ax = plt.subplots(figsize=(10, 8))\n",
    "\n",
    "# Plot contours of the function\n",
    "contour = ax.contourf(X, Y, Z, levels=20, cmap='viridis', alpha=0.6)\n",
    "\n",
    "# Plot gradient vectors\n",
    "quiver = ax.quiver(X_grid, Y_grid, U_norm, V_norm, gradient_magnitude,\n",
    "                   angles='xy', scale_units='xy', scale=25, cmap='autumn')\n",
    "\n",
    "ax.set_xlabel('x')\n",
    "ax.set_ylabel('y')\n",
    "ax.set_title('Gradient Field of f(x,y) = x² + y² - 2xy with Contours')\n",
    "fig.colorbar(contour, ax=ax, label='Function Value')\n",
    "fig.colorbar(quiver, ax=ax, label='Gradient Magnitude', orientation='horizontal', pad=0.1)\n",
    "\n",
    "plt.tight_layout()\n",
    "plt.show()"
   ]
  },
  {
   "cell_type": "markdown",
   "metadata": {},
   "source": [
    "### Step 4: Find and classify critical points\n",
    "\n",
    "Critical points occur where the gradient is zero. We can find them by solving the system of equations:\n",
    "\n",
    "$$\\frac{\\partial f}{\\partial x} = 0, \\frac{\\partial f}{\\partial y} = 0$$"
   ]
  },
  {
   "cell_type": "code",
   "execution_count": null,
   "metadata": {},
   "outputs": [],
   "source": [
    "# Find critical points by solving the system grad_f = (0, 0)\n",
    "critical_points = sp.solve((grad_f_x, grad_f_y), (x, y))\n",
    "print(f\"Critical points: {critical_points}\")\n",
    "\n",
    "# Compute the Hessian matrix to classify the critical points\n",
    "H_xx = sp.diff(grad_f_x, x)\n",
    "H_xy = sp.diff(grad_f_x, y)\n",
    "H_yx = sp.diff(grad_f_y, x)\n",
    "H_yy = sp.diff(grad_f_y, y)\n",
    "\n",
    "print(f\"Hessian matrix: [({H_xx}, {H_xy}), ({H_yx}, {H_yy})]\")\n",
    "\n",
    "# For each critical point, compute the determinant and trace of the Hessian\n",
    "for point in critical_points:\n",
    "    x_val, y_val = point\n",
    "    \n",
    "    # Substitute values to evaluate Hessian at this point\n",
    "    hxx_val = H_xx.subs([(x, x_val), (y, y_val)])\n",
    "    hxy_val = H_xy.subs([(x, x_val), (y, y_val)])\n",
    "    hyx_val = H_yx.subs([(x, x_val), (y, y_val)])\n",
    "    hyy_val = H_yy.subs([(x, x_val), (y, y_val)])\n",
    "    \n",
    "    # Calculate determinant and trace\n",
    "    det_H = hxx_val * hyy_val - hxy_val * hyx_val\n",
    "    trace_H = hxx_val + hyy_val\n",
    "    \n",
    "    # Classify the critical point\n",
    "    if det_H > 0:\n",
    "        if trace_H > 0:\n",
    "            point_type = \"Minimum\"\n",
    "        else:\n",
    "            point_type = \"Maximum\"\n",
    "    elif det_H < 0:\n",
    "        point_type = \"Saddle point\"\n",
    "    else:\n",
    "        point_type = \"Degenerate critical point\"\n",
    "    \n",
    "    # Function value at the critical point\n",
    "    f_val = f.subs([(x, x_val), (y, y_val)])\n",
    "    \n",
    "    print(f\"Point ({x_val}, {y_val}) is a {point_type} with f(x,y) = {f_val}\")\n",
    "    print(f\"  Determinant of Hessian: {det_H}\")\n",
    "    print(f\"  Trace of Hessian: {trace_H}\\n\")"
   ]
  },
  {
   "cell_type": "markdown",
   "metadata": {},
   "source": [
    "### Step 5: Visualize dynamical implications\n",
    "\n",
    "In many systems, particles or agents tend to move along the negative gradient direction (downhill). Let's simulate several trajectories starting from different initial conditions."
   ]
  },
  {
   "cell_type": "code",
   "execution_count": null,
   "metadata": {},
   "outputs": [],
   "source": [
    "# Define gradient descent function\n",
    "def gradient_descent(start_point, learning_rate=0.1, num_steps=100):\n",
    "    trajectory = np.zeros((num_steps, 2))\n",
    "    trajectory[0] = start_point\n",
    "    \n",
    "    for i in range(1, num_steps):\n",
    "        x_current, y_current = trajectory[i-1]\n",
    "        grad_x = grad_f_x_numeric(x_current, y_current)\n",
    "        grad_y = grad_f_y_numeric(x_current, y_current)\n",
    "        \n",
    "        # Move in the negative gradient direction\n",
    "        x_new = x_current - learning_rate * grad_x\n",
    "        y_new = y_current - learning_rate * grad_y\n",
    "        \n",
    "        trajectory[i] = [x_new, y_new]\n",
    "    \n",
    "    return trajectory\n",
    "\n",
    "# Generate some random starting points\n",
    "np.random.seed(42)\n",
    "num_trajectories = 8\n",
    "start_points = 5 * np.random.rand(num_trajectories, 2) - 2.5  # Random points in [-2.5, 2.5]^2\n",
    "\n",
    "# Plot the contour map with trajectories\n",
    "fig, ax = plt.subplots(figsize=(10, 8))\n",
    "\n",
    "# Plot contours of the function\n",
    "contour = ax.contourf(X, Y, Z, levels=20, cmap='viridis', alpha=0.7)\n",
    "\n",
    "# Plot critical points\n",
    "for point in critical_points:\n",
    "    x_val, y_val = point\n",
    "    ax.plot(x_val, y_val, 'ro', markersize=10)\n",
    "    ax.text(x_val + 0.1, y_val + 0.1, f'({x_val}, {y_val})')\n",
    "\n",
    "# Compute and plot each trajectory\n",
    "for i, start in enumerate(start_points):\n",
    "    trajectory = gradient_descent(start, learning_rate=0.05, num_steps=100)\n",
    "    ax.plot(trajectory[:, 0], trajectory[:, 1], 'k-', linewidth=1, alpha=0.8)\n",
    "    ax.plot(trajectory[0, 0], trajectory[0, 1], 'go', markersize=5)\n",
    "    ax.text(trajectory[0, 0] + 0.1, trajectory[0, 1] + 0.1, f'Start {i+1}')\n",
    "\n",
    "ax.set_xlabel('x')\n",
    "ax.set_ylabel('y')\n",
    "ax.set_title('Gradient Descent Trajectories')\n",
    "fig.colorbar(contour, ax=ax, label='Function Value')\n",
    "\n",
    "plt.tight_layout()\n",
    "plt.show()"
   ]
  },
  {
   "cell_type": "markdown",
   "metadata": {},
   "source": [
    "### Analysis and Interpretation\n",
    "\n",
    "Our analysis of the function $f(x, y) = x^2 + y^2 - 2xy$ reveals several important insights:\n",
    "\n",
    "1. **Critical Points**: We found one critical point at (0, 0), which is a minimum. This is the equilibrium point of the system.\n",
    "\n",
    "2. **Gradient Field**: The gradient vectors point radially outward from the minimum, showing the direction of steepest increase.\n",
    "\n",
    "3. **Dynamic Behavior**: The gradient descent trajectories show how particles or agents in this system would naturally move toward the minimum at (0, 0), regardless of where they start (within the basin of attraction).\n",
    "\n",
    "4. **Physical Interpretation**: If this were an energy landscape, objects would naturally roll downhill toward the minimum energy state at (0, 0). In an ecological context, this might represent evolution toward an optimal trait combination.\n",
    "\n",
    "5. **System Stability**: The positive determinant and trace of the Hessian at the critical point confirm it's a stable equilibrium (minimum), meaning small perturbations will result in forces that push the system back toward equilibrium.\n",
    "\n",
    "This type of analysis is fundamental to understanding the qualitative behavior of many complex systems, from mechanical systems to population dynamics and economic models."
   ]
  },
  {
   "cell_type": "markdown",
   "metadata": {},
   "source": [
    "# Exercise 2: Vector Field Analysis and Flow Visualization (Unsolved)\n",
    "\n",
    "## Problem Statement\n",
    "\n",
    "Consider the following vector field representing a dynamical system:\n",
    "\n",
    "$$\\vec{F}(x, y) = (y, -\\sin(x))$$\n",
    "\n",
    "This type of vector field appears in many physical and biological systems, including pendulum dynamics, predator-prey models, and certain types of electrical circuits.\n",
    "\n",
    "Your tasks are:\n",
    "\n",
    "1. Visualize the vector field $\\vec{F}(x, y)$\n",
    "2. Calculate and interpret the divergence and curl of the field\n",
    "3. Determine if the field is conservative by checking if it can be written as the gradient of some potential function\n",
    "4. Simulate and visualize the flow of particles in this field (particle trajectories)\n",
    "5. Find and classify the equilibrium points of the system\n",
    "6. Analyze the system's behavior and stability properties\n",
    "\n",
    "Use the concepts from Section 2.2 of the course to perform this analysis."
   ]
  },
  {
   "cell_type": "markdown",
   "metadata": {},
   "source": [
    "### Setup: Define the vector field"
   ]
  },
  {
   "cell_type": "code",
   "execution_count": null,
   "metadata": {},
   "outputs": [],
   "source": [
    "# Define symbolic variables\n",
    "x, y = sp.symbols('x y')\n",
    "\n",
    "# Define the vector field components\n",
    "F_x = y\n",
    "F_y = -sp.sin(x)\n",
    "\n",
    "print(f\"Vector field F(x,y) = ({F_x}, {F_y})\")\n",
    "\n",
    "# Convert to numerical functions for plotting\n",
    "F_x_numeric = lambdify((x, y), F_x, 'numpy')\n",
    "F_y_numeric = lambdify((x, y), F_y, 'numpy')"
   ]
  },
  {
   "cell_type": "markdown",
   "metadata": {},
   "source": [
    "### Step 1: Visualize the vector field\n",
    "\n",
    "Complete this step by visualizing the vector field using quiver plot. You'll need to:\n",
    "- Create a grid of points\n",
    "- Evaluate the vector field at each point\n",
    "- Create a quiver plot with appropriate scaling and coloring"
   ]
  },
  {
   "cell_type": "code",
   "execution_count": null,
   "metadata": {},
   "outputs": [],
   "source": [
    "# Your code for visualizing the vector field goes here\n",
    "# Hint: Use plt.quiver() for creating a vector field plot\n",
    "\n",
    "# Create a grid of points\n",
    "# ...\n",
    "\n",
    "# Evaluate the vector field at each point\n",
    "# ...\n",
    "\n",
    "# Calculate the magnitude for coloring\n",
    "# ...\n",
    "\n",
    "# Create the quiver plot\n",
    "# ..."
   ]
  },
  {
   "cell_type": "markdown",
   "metadata": {},
   "source": [
    "### Step 2: Calculate and interpret the divergence and curl\n",
    "\n",
    "Calculate the divergence and curl of the vector field, then interpret what these values mean for the behavior of the system.\n",
    "\n",
    "Remember:\n",
    "- Divergence: $\\nabla \\cdot \\vec{F} = \\frac{\\partial F_x}{\\partial x} + \\frac{\\partial F_y}{\\partial y}$\n",
    "- Curl: $\\nabla \\times \\vec{F} = \\frac{\\partial F_y}{\\partial x} - \\frac{\\partial F_x}{\\partial y}$ (for 2D fields)"
   ]
  },
  {
   "cell_type": "code",
   "execution_count": null,
   "metadata": {},
   "outputs": [],
   "source": [
    "# Your code for calculating divergence and curl goes here\n",
    "# Hint: Use symbolic differentiation with sympy\n",
    "\n",
    "# Calculate divergence\n",
    "# ...\n",
    "\n",
    "# Calculate curl (in 2D, this is a scalar)\n",
    "# ...\n",
    "\n",
    "# Print and interpret the results\n",
    "# ..."
   ]
  },
  {
   "cell_type": "markdown",
   "metadata": {},
   "source": [
    "### Step 3: Determine if the field is conservative\n",
    "\n",
    "A vector field is conservative if it can be written as the gradient of some scalar potential function. This happens if and only if the curl is zero everywhere.\n",
    "\n",
    "If the field is conservative, find the potential function $\\phi$ such that $\\vec{F} = \\nabla \\phi$."
   ]
  },
  {
   "cell_type": "code",
   "execution_count": null,
   "metadata": {},
   "outputs": [],
   "source": [
    "# Your code for determining if the field is conservative goes here\n",
    "# If conservative, find the potential function\n",
    "# Hint: Use the condition that curl = 0 everywhere for conservative fields\n",
    "\n",
    "# Check if the curl is zero everywhere\n",
    "# ...\n",
    "\n",
    "# If conservative, find the potential function by integrating\n",
    "# ..."
   ]
  },
  {
   "cell_type": "markdown",
   "metadata": {},
   "source": [
    "### Step 4: Simulate particle trajectories\n",
    "\n",
    "Implement a numerical integrator (like Euler or Runge-Kutta) to simulate the paths that particles would follow in this vector field. These paths are governed by the differential equations:\n",
    "\n",
    "$$\\frac{dx}{dt} = F_x(x, y) = y$$\n",
    "$$\\frac{dy}{dt} = F_y(x, y) = -\\sin(x)$$"
   ]
  },
  {
   "cell_type": "code",
   "execution_count": null,
   "metadata": {},
   "outputs": [],
   "source": [
    "# Your code for simulating particle trajectories goes here\n",
    "# Hint: Use a numerical integration method like Runge-Kutta\n",
    "\n",
    "# Define the differential equations\n",
    "# ...\n",
    "\n",
    "# Implement a numerical integrator\n",
    "# ...\n",
    "\n",
    "# Choose several initial conditions\n",
    "# ...\n",
    "\n",
    "# Simulate and plot trajectories\n",
    "# ..."
   ]
  },
  {
   "cell_type": "markdown",
   "metadata": {},
   "source": [
    "### Step 5: Find and classify equilibrium points\n",
    "\n",
    "Equilibrium points occur where the vector field is zero: $\\vec{F}(x, y) = (0, 0)$. Find these points and classify them based on the eigenvalues of the Jacobian matrix at each point."
   ]
  },
  {
   "cell_type": "code",
   "execution_count": null,
   "metadata": {},
   "outputs": [],
   "source": [
    "# Your code for finding and classifying equilibrium points goes here\n",
    "# Hint: Solve F_x = 0 and F_y = 0 simultaneously\n",
    "\n",
    "# Find equilibrium points\n",
    "# ...\n",
    "\n",
    "# Compute the Jacobian matrix\n",
    "# ...\n",
    "\n",
    "# For each equilibrium point, evaluate the Jacobian and find eigenvalues\n",
    "# ...\n",
    "\n",
    "# Classify each point (e.g., stable/unstable node, saddle, center, spiral)\n",
    "# ..."
   ]
  },
  {
   "cell_type": "markdown",
   "metadata": {},
   "source": [
    "### Step 6: Analyze and interpret the system\n",
    "\n",
    "Based on your findings, provide a comprehensive analysis of the system's behavior. Include:\n",
    "- The physical interpretation of the vector field\n",
    "- The significance of equilibrium points and their stability\n",
    "- Global behavior patterns and any special trajectories\n",
    "- Connections to real-world systems that might exhibit similar dynamics"
   ]
  },
  {
   "cell_type": "markdown",
   "metadata": {},
   "source": [
    "## Your analysis here\n",
    "\n",
    "Write a comprehensive analysis of the vector field and its dynamics...\n",
    "\n",
    "Points to consider:\n",
    "- What do the equilibrium points represent physically?\n",
    "- How do trajectories behave near and far from equilibrium points?\n",
    "- What does the divergence and curl tell you about the field?\n",
    "- Can you recognize any patterns similar to known physical systems?\n",
    "- Are there any conserved quantities in this system?\n",
    "- How might external perturbations affect the system behavior?"
   ]
  },
  {
   "cell_type": "markdown",
   "metadata": {},
   "source": [
    "# Further Exploration\n",
    "\n",
    "Some ideas for extending your analysis:\n",
    "\n",
    "1. Modify the vector field slightly and observe how the behavior changes\n",
    "2. Add damping or forcing terms and analyze the modified system\n",
    "3. Generate a phase portrait with nullclines to gain additional insight\n",
    "4. Investigate whether the system has any conserved quantities\n",
    "5. Relate this system to a specific real-world application\n",
    "\n",
    "## Recommended Resources\n",
    "\n",
    "- Strogatz, S. H. (2018). Nonlinear Dynamics and Chaos\n",
    "- Hirsch, M. W., Smale, S., & Devaney, R. L. (2012). Differential Equations, Dynamical Systems, and an Introduction to Chaos\n",
    "- Teschl, G. (2012). Ordinary Differential Equations and Dynamical Systems"
   ]
  }
 ],
 "metadata": {
  "kernelspec": {
   "display_name": "Python 3",
   "language": "python",
   "name": "python3"
  },
  "language_info": {
   "codemirror_mode": {
    "name": "ipython",
    "version": 3
   },
   "file_extension": ".py",
   "mimetype": "text/x-python",
   "name": "python",
   "nbconvert_exporter": "python",
   "pygments_lexer": "ipython3",
   "version": "3.10.11"
  }
 },
 "nbformat": 4,
 "nbformat_minor": 5
}
