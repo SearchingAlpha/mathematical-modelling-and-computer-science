{
 "cells": [
  {
   "cell_type": "markdown",
   "metadata": {},
   "source": [
    "# Section 2.1: Review of Linear Algebra and Matrix Theory Exercises\n",
    "\n",
    "These exercises will help you strengthen your understanding of fundamental linear algebra concepts that are essential for complex systems modeling.\n",
    "\n",
    "## Required Libraries\n",
    "\n",
    "We'll use NumPy for linear algebra operations and Matplotlib for visualizations."
   ]
  },
  {
   "cell_type": "code",
   "execution_count": null,
   "metadata": {},
   "outputs": [],
   "source": [
    "import numpy as np\n",
    "import matplotlib.pyplot as plt\n",
    "from mpl_toolkits.mplot3d import Axes3D\n",
    "from numpy.linalg import eig, svd, matrix_rank, norm\n",
    "import scipy.linalg as la\n",
    "\n",
    "# Set plotting style\n",
    "plt.style.use('seaborn-v0_8-whitegrid')\n",
    "np.set_printoptions(precision=4, suppress=True)"
   ]
  },
  {
   "cell_type": "markdown",
   "metadata": {},
   "source": [
    "## Exercise 1: Eigendecomposition and Dynamical Systems (Solved)\n",
    "\n",
    "In complex systems, eigenvalues and eigenvectors provide crucial information about system stability and behavior. Let's explore this connection with a simple linear dynamical system represented by a matrix transformation."
   ]
  },
  {
   "cell_type": "markdown",
   "metadata": {},
   "source": [
    "### Problem Statement\n",
    "\n",
    "Consider a simple population model with two species that interact. The state of the system at time t is represented by a vector $x(t) = [x_1(t), x_2(t)]^T$, where $x_1(t)$ and $x_2(t)$ are the populations of the two species. \n",
    "\n",
    "The system evolves according to a linear difference equation: $x(t+1) = Ax(t)$, where:\n",
    "\n",
    "$$A = \\begin{bmatrix} 0.8 & 0.3 \\\\ 0.2 & 0.7 \\end{bmatrix}$$\n",
    "\n",
    "1. Find the eigenvalues and eigenvectors of matrix A\n",
    "2. Using the eigendecomposition, predict the long-term behavior of the system\n",
    "3. Simulate the system evolution from different initial conditions and visualize the trajectories"
   ]
  },
  {
   "cell_type": "code",
   "execution_count": null,
   "metadata": {},
   "outputs": [],
   "source": [
    "# Define the system matrix\n",
    "A = np.array([\n",
    "    [0.8, 0.3],\n",
    "    [0.2, 0.7]\n",
    "])\n",
    "\n",
    "print(\"System matrix A:\")\n",
    "print(A)"
   ]
  },
  {
   "cell_type": "markdown",
   "metadata": {},
   "source": [
    "### Step 1: Find eigenvalues and eigenvectors\n",
    "\n",
    "We use NumPy's eigenvalue decomposition function to find the eigenvalues and eigenvectors."
   ]
  },
  {
   "cell_type": "code",
   "execution_count": null,
   "metadata": {},
   "outputs": [],
   "source": [
    "# Calculate eigenvalues and eigenvectors\n",
    "eigenvalues, eigenvectors = eig(A)\n",
    "\n",
    "print(\"Eigenvalues:\")\n",
    "print(eigenvalues)\n",
    "print(\"\\nEigenvectors (by column):\")\n",
    "print(eigenvectors)\n",
    "\n",
    "# Check our results by verifying that A*v = λ*v for each eigenpair\n",
    "for i in range(len(eigenvalues)):\n",
    "    λ = eigenvalues[i]\n",
    "    v = eigenvectors[:, i]\n",
    "    Av = A @ v\n",
    "    λv = λ * v\n",
    "    print(f\"\\nFor eigenvalue λ = {λ:.4f}:\")\n",
    "    print(f\"A·v = {Av}\")\n",
    "    print(f\"λ·v = {λv}\")\n",
    "    print(f\"Difference norm: {norm(Av - λv):.8f}\")"
   ]
  },
  {
   "cell_type": "markdown",
   "metadata": {},
   "source": [
    "### Step 2: Interpret the eigenvalues for system behavior\n",
    "\n",
    "In a discrete-time linear dynamical system x(t+1) = Ax(t):\n",
    "- Eigenvalues with |λ| < 1 correspond to decaying modes\n",
    "- Eigenvalues with |λ| > 1 correspond to growing modes\n",
    "- Eigenvalues with |λ| = 1 correspond to conserved modes\n",
    "\n",
    "Let's analyze our eigenvalues to understand the long-term behavior of this system."
   ]
  },
  {
   "cell_type": "code",
   "execution_count": null,
   "metadata": {},
   "outputs": [],
   "source": [
    "# Check magnitudes of eigenvalues\n",
    "magnitudes = np.abs(eigenvalues)\n",
    "print(\"Magnitudes of eigenvalues:\", magnitudes)\n",
    "\n",
    "# Interpret system stability based on eigenvalue magnitudes\n",
    "if all(magnitudes < 1):\n",
    "    print(\"All eigenvalues have magnitude < 1: System is stable, all trajectories converge to zero.\")\n",
    "elif all(magnitudes <= 1) and any(magnitudes == 1):\n",
    "    print(\"Some eigenvalues have magnitude = 1: System has conserved modes.\")\n",
    "else:\n",
    "    print(\"Some eigenvalues have magnitude > 1: System is unstable, some trajectories grow unbounded.\")"
   ]
  },
  {
   "cell_type": "markdown",
   "metadata": {},
   "source": [
    "Let's also look at how the matrix powers behave, which tells us how the system evolves over multiple time steps."
   ]
  },
  {
   "cell_type": "code",
   "execution_count": null,
   "metadata": {},
   "outputs": [],
   "source": [
    "# Investigate the behavior of matrix powers\n",
    "powers = [1, 2, 5, 10, 20, 50]\n",
    "\n",
    "for power in powers:\n",
    "    matrix_power = np.linalg.matrix_power(A, power)\n",
    "    print(f\"A^{power} = \")\n",
    "    print(matrix_power)\n",
    "    print()"
   ]
  },
  {
   "cell_type": "markdown",
   "metadata": {},
   "source": [
    "### Step 3: Simulate the system evolution\n",
    "\n",
    "Now let's simulate and visualize the system evolution from different initial conditions to see how the trajectories behave."
   ]
  },
  {
   "cell_type": "code",
   "execution_count": null,
   "metadata": {},
   "outputs": [],
   "source": [
    "# Define a function to simulate the system\n",
    "def simulate_system(A, x0, steps=50):\n",
    "    x = np.zeros((steps+1, len(x0)))\n",
    "    x[0] = x0\n",
    "    \n",
    "    for t in range(steps):\n",
    "        x[t+1] = A @ x[t]\n",
    "    \n",
    "    return x\n",
    "\n",
    "# Set up initial conditions and simulation\n",
    "initial_states = [\n",
    "    np.array([1.0, 0.0]),    # Only species 1\n",
    "    np.array([0.0, 1.0]),    # Only species 2\n",
    "    np.array([1.0, 1.0]),    # Equal populations\n",
    "    np.array([2.0, 0.5])     # Mixed populations\n",
    "]\n",
    "\n",
    "trajectories = [simulate_system(A, x0) for x0 in initial_states]\n",
    "\n",
    "# Create visualization of trajectories\n",
    "plt.figure(figsize=(12, 10))\n",
    "\n",
    "# Plot state space trajectories\n",
    "plt.subplot(221)\n",
    "colors = ['b', 'g', 'r', 'c']\n",
    "labels = ['[1,0]', '[0,1]', '[1,1]', '[2,0.5]']\n",
    "\n",
    "for i, trajectory in enumerate(trajectories):\n",
    "    plt.plot(trajectory[:, 0], trajectory[:, 1], 'o-', color=colors[i], alpha=0.6, label=f\"x₀ = {labels[i]}\")\n",
    "    plt.plot(trajectory[0, 0], trajectory[0, 1], 'o', color=colors[i], markersize=8)\n",
    "    \n",
    "# Plot eigenvectors as direction fields\n",
    "for i in range(len(eigenvalues)):\n",
    "    v = eigenvectors[:, i]\n",
    "    plt.arrow(0, 0, v[0], v[1], color='k', alpha=0.5, width=0.01,\n",
    "              length_includes_head=True, head_width=0.05, head_length=0.1,\n",
    "              label=f\"eigenvector {i+1}\")\n",
    "\n",
    "plt.grid(True)\n",
    "plt.xlabel('Species 1 Population')\n",
    "plt.ylabel('Species 2 Population')\n",
    "plt.title('State Space Trajectories')\n",
    "plt.legend()\n",
    "plt.axis('equal')\n",
    "\n",
    "# Plot time series of species 1\n",
    "plt.subplot(222)\n",
    "for i, trajectory in enumerate(trajectories):\n",
    "    plt.plot(range(len(trajectory)), trajectory[:, 0], '-', color=colors[i], label=f\"x₀ = {labels[i]}\")\n",
    "plt.grid(True)\n",
    "plt.xlabel('Time Step')\n",
    "plt.ylabel('Population')\n",
    "plt.title('Species 1 Population Over Time')\n",
    "plt.legend()\n",
    "\n",
    "# Plot time series of species 2\n",
    "plt.subplot(223)\n",
    "for i, trajectory in enumerate(trajectories):\n",
    "    plt.plot(range(len(trajectory)), trajectory[:, 1], '-', color=colors[i], label=f\"x₀ = {labels[i]}\")\n",
    "plt.grid(True)\n",
    "plt.xlabel('Time Step')\n",
    "plt.ylabel('Population')\n",
    "plt.title('Species 2 Population Over Time')\n",
    "plt.legend()\n",
    "\n",
    "# Plot total population\n",
    "plt.subplot(224)\n",
    "for i, trajectory in enumerate(trajectories):\n",
    "    total_pop = trajectory[:, 0] + trajectory[:, 1]\n",
    "    plt.plot(range(len(trajectory)), total_pop, '-', color=colors[i], label=f\"x₀ = {labels[i]}\")\n",
    "plt.grid(True)\n",
    "plt.xlabel('Time Step')\n",
    "plt.ylabel('Population')\n",
    "plt.title('Total Population Over Time')\n",
    "plt.legend()\n",
    "\n",
    "plt.tight_layout()\n",
    "plt.show()"
   ]
  },
  {
   "cell_type": "markdown",
   "metadata": {},
   "source": [
    "### Analysis and Conclusions\n",
    "\n",
    "From our analysis, we can draw several key insights:\n",
    "\n",
    "1. **Eigenvalue Analysis**: Both eigenvalues have magnitude less than 1, which indicates a stable system where all trajectories converge to a single equilibrium point (in this case, the origin).\n",
    "\n",
    "2. **Convergence Rate**: The larger eigenvalue (closer to 1) dominates the long-term behavior, determining the slowest rate of convergence.\n",
    "\n",
    "3. **Trajectory Behavior**: \n",
    "   - All trajectories eventually align with the eigenvector corresponding to the dominant eigenvalue\n",
    "   - The non-dominant mode decays faster, so trajectories first approach this general direction before being drawn along the dominant eigenvector\n",
    "\n",
    "4. **System Interpretation**: In this population model, regardless of the initial conditions, the populations of both species will eventually decline to zero (as both eigenvalues < 1), but they will do so in a way that maintains a specific ratio between them (determined by the dominant eigenvector).\n",
    "\n",
    "The eigendecomposition provides powerful insights into the qualitative behavior of this system without needing to simulate every possible scenario."
   ]
  },
  {
   "cell_type": "markdown",
   "metadata": {},
   "source": [
    "## Exercise 2: Singular Value Decomposition and Data Analysis (Unsolved)\n",
    "\n",
    "Singular Value Decomposition (SVD) is a powerful technique with applications in data compression, noise reduction, and uncovering latent patterns in high-dimensional data. In complex systems, SVD can help identify dominant modes or patterns within multivariate data."
   ]
  },
  {
   "cell_type": "markdown",
   "metadata": {},
   "source": [
    "### Problem Statement\n",
    "\n",
    "You are analyzing a dataset of environmental measurements from an ecosystem. The data contains hourly measurements of 5 variables (temperature, humidity, light intensity, CO2 levels, and soil moisture) collected over a 24-hour period. The data matrix X has shape (24, 5) where rows represent time points and columns represent the different variables.\n",
    "\n",
    "Your tasks:\n",
    "\n",
    "1. Generate synthetic data with correlated patterns to simulate the environmental measurements\n",
    "2. Apply SVD to decompose the data matrix\n",
    "3. Determine how many components are needed to explain at least 90% of the variance\n",
    "4. Reconstruct the data using only the dominant components and calculate the approximation error\n",
    "5. Visualize the original variables in the space of the first two singular vectors\n",
    "\n",
    "Here's some starter code to help you generate the synthetic data:"
   ]
  },
  {
   "cell_type": "code",
   "execution_count": null,
   "metadata": {},
   "outputs": [],
   "source": [
    "# Set random seed for reproducibility\n",
    "np.random.seed(42)\n",
    "\n",
    "# Generate synthetic data with correlated patterns\n",
    "hours = np.arange(24)\n",
    "\n",
    "# Create base patterns (e.g., daily cycles, random fluctuations)\n",
    "daily_cycle = np.sin(np.pi * hours / 12)  # Peaks at noon\n",
    "random_fluctuation = np.random.normal(0, 0.2, 24)\n",
    "\n",
    "# Generate the variables with different weightings of the patterns\n",
    "temperature = 25 + 5 * daily_cycle + random_fluctuation  # Peaks during the day\n",
    "humidity = 60 - 20 * daily_cycle + random_fluctuation    # Inverse relationship with temperature\n",
    "light = 100 * np.maximum(0, daily_cycle) + np.random.normal(0, 5, 24)  # Only positive during day\n",
    "co2 = 400 + 50 * np.sin(np.pi * (hours - 3) / 12) + random_fluctuation  # Shifted cycle\n",
    "soil_moisture = 30 - 5 * np.cumsum(daily_cycle) / 4 + random_fluctuation  # Decreases over day\n",
    "\n",
    "# Create the data matrix\n",
    "X = np.column_stack([temperature, humidity, light, co2, soil_moisture])\n",
    "\n",
    "# Display the first few rows\n",
    "print(\"Data matrix X shape:\", X.shape)\n",
    "print(\"First 5 rows:\")\n",
    "print(X[:5])\n",
    "\n",
    "# Plot the time series data\n",
    "plt.figure(figsize=(12, 8))\n",
    "variables = ['Temperature (°C)', 'Humidity (%)', 'Light Intensity (lux)', 'CO2 (ppm)', 'Soil Moisture (%)']\n",
    "\n",
    "for i, var_name in enumerate(variables):\n",
    "    plt.subplot(3, 2, i+1)\n",
    "    plt.plot(hours, X[:, i])\n",
    "    plt.xlabel('Hour of Day')\n",
    "    plt.ylabel(var_name)\n",
    "    plt.grid(True)\n",
    "\n",
    "plt.tight_layout()\n",
    "plt.show()"
   ]
  },
  {
   "cell_type": "markdown",
   "metadata": {},
   "source": [
    "### Your Task\n",
    "\n",
    "Complete the following steps to analyze this data using SVD:\n",
    "\n",
    "1. Standardize the data (subtract mean, divide by standard deviation)\n",
    "2. Apply SVD decomposition to obtain U, Σ, and V^T matrices\n",
    "3. Calculate how much variance is explained by each singular value\n",
    "4. Determine the minimum number of components needed to explain 90% of the variance\n",
    "5. Reconstruct the data using only the dominant components\n",
    "6. Visualize the original variables in the space of the first two singular vectors\n",
    "7. Interpret the meaning of the first two principal components in terms of the original variables\n",
    "\n",
    "Use the code cells below to complete your solution."
   ]
  },
  {
   "cell_type": "code",
   "execution_count": null,
   "metadata": {},
   "outputs": [],
   "source": [
    "# Step 1: Standardize the data\n",
    "# Your code here\n"
   ]
  },
  {
   "cell_type": "code",
   "execution_count": null,
   "metadata": {},
   "outputs": [],
   "source": [
    "# Step 2: Apply SVD decomposition\n",
    "# Your code here\n"
   ]
  },
  {
   "cell_type": "code",
   "execution_count": null,
   "metadata": {},
   "outputs": [],
   "source": [
    "# Step 3 & 4: Calculate explained variance and determine number of components\n",
    "# Your code here\n"
   ]
  },
  {
   "cell_type": "code",
   "execution_count": null,
   "metadata": {},
   "outputs": [],
   "source": [
    "# Step 5: Reconstruct the data using only dominant components\n",
    "# Your code here\n"
   ]
  },
  {
   "cell_type": "code",
   "execution_count": null,
   "metadata": {},
   "outputs": [],
   "source": [
    "# Step 6: Visualize variables in the space of the first two singular vectors\n",
    "# Your code here\n"
   ]
  },
  {
   "cell_type": "markdown",
   "metadata": {},
   "source": [
    "### Hints\n",
    "\n",
    "1. Use `np.mean()` and `np.std()` with `axis=0` to standardize columns\n",
    "2. NumPy's `np.linalg.svd(X)` gives you the U, s (singular values), and Vh (V transpose) matrices\n",
    "3. The explained variance ratio can be calculated as: singular_values^2 / sum(singular_values^2)\n",
    "4. To reconstruct using k components: X_approx = U[:,:k] @ np.diag(s[:k]) @ Vh[:k,:]\n",
    "5. Visualize the variables in PC space using the right singular vectors (V)"
   ]
  }
 ],
 "metadata": {
  "kernelspec": {
   "display_name": "Python 3",
   "language": "python",
   "name": "python3"
  },
  "language_info": {
   "name": "python",
   "version": "3.10.11"
  }
 },
 "nbformat": 4,
 "nbformat_minor": 5
}